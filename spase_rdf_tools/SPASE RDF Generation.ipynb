{
 "cells": [
  {
   "cell_type": "markdown",
   "source": [
    "# SPASE RDF Generation"
   ],
   "metadata": {
    "collapsed": false
   },
   "id": "12930b3f1bff54e7"
  },
  {
   "cell_type": "markdown",
   "source": [
    "## Download input data\n",
    "\n",
    "Download the SPASE XSD Schema:"
   ],
   "metadata": {
    "collapsed": false
   },
   "id": "54d5690bff08c251"
  },
  {
   "cell_type": "code",
   "outputs": [
    {
     "name": "stdout",
     "output_type": "stream",
     "text": [
      "Downloaded latest SPASE schema XSD to: ./data/spase-2.6.0.xsd\n"
     ]
    }
   ],
   "source": [
    "from utils.data_download import download_spase_schema_xsd\n",
    "\n",
    "download_spase_schema_xsd(\"2.6.0\", \"./data/\")"
   ],
   "metadata": {
    "collapsed": false,
    "ExecuteTime": {
     "end_time": "2024-02-15T19:39:46.339987Z",
     "start_time": "2024-02-15T19:39:45.917524Z"
    }
   },
   "id": "5711a00ab9b1e4cb",
   "execution_count": 1
  },
  {
   "cell_type": "markdown",
   "source": [
    "Download the HPDE SPASE Files:"
   ],
   "metadata": {
    "collapsed": false
   },
   "id": "f8bd63b9dd771ec2"
  },
  {
   "cell_type": "code",
   "outputs": [
    {
     "name": "stdout",
     "output_type": "stream",
     "text": [
      "Downloaded HPDE files from branch 'master' to: ./data/\n"
     ]
    }
   ],
   "source": [
    "from utils.data_download import download_hpde_files\n",
    "\n",
    "# This may take a while\n",
    "download_hpde_files(\"master\", \"./data/\")"
   ],
   "metadata": {
    "collapsed": false,
    "ExecuteTime": {
     "end_time": "2024-02-15T19:45:24.538143Z",
     "start_time": "2024-02-15T19:39:46.340515Z"
    }
   },
   "id": "c47ee86751b4acce",
   "execution_count": 2
  },
  {
   "cell_type": "markdown",
   "source": [
    "## Generate SPASE OWL File\n",
    "\n",
    "### Generate Intermediate Python Model"
   ],
   "metadata": {
    "collapsed": false
   },
   "id": "c21c8079632649e2"
  },
  {
   "cell_type": "code",
   "outputs": [
    {
     "name": "stdout",
     "output_type": "stream",
     "text": [
      "Python model created in: spase_model\n"
     ]
    }
   ],
   "source": [
    "from utils.spase_to_rdf import create_python_model_from_xsd\n",
    "\n",
    "create_python_model_from_xsd(\"./data/spase-2.6.0.xsd\", \"spase_model\")"
   ],
   "metadata": {
    "collapsed": false,
    "ExecuteTime": {
     "end_time": "2024-02-15T19:45:25.813223Z",
     "start_time": "2024-02-15T19:45:24.540368Z"
    }
   },
   "id": "a5e0f3fa89612684",
   "execution_count": 3
  },
  {
   "cell_type": "markdown",
   "source": [
    "### Generate Ontology from Python module"
   ],
   "metadata": {
    "collapsed": false
   },
   "id": "73509ad49dfdaac4"
  },
  {
   "cell_type": "code",
   "outputs": [],
   "source": [
    "from utils.spase_to_rdf import create_owl_from_python_module\n",
    "\n",
    "create_owl_from_python_module(\"spase_model\", \"./data/spase.owl\")"
   ],
   "metadata": {
    "collapsed": false,
    "ExecuteTime": {
     "end_time": "2024-02-15T20:03:27.127811Z",
     "start_time": "2024-02-15T20:03:26.773935Z"
    }
   },
   "id": "147980a407756a79",
   "execution_count": 1
  },
  {
   "cell_type": "markdown",
   "source": [
    "### Generate RDF File from XML"
   ],
   "metadata": {
    "collapsed": false
   },
   "id": "db2a3b750f1f2b13"
  },
  {
   "cell_type": "code",
   "outputs": [
    {
     "name": "stderr",
     "output_type": "stream",
     "text": [
      "Processing XML files:   0%|          | 29/26735 [00:00<01:33, 286.44it/s]"
     ]
    },
    {
     "name": "stdout",
     "output_type": "stream",
     "text": [
      "Error processing ./data/hpde.io-master/sitemap.xml: Unknown property {http://www.spase-group.org/data/schema}Spase:{http://www.sitemaps.org/schemas/sitemap/0.9}url\n"
     ]
    },
    {
     "name": "stderr",
     "output_type": "stream",
     "text": [
      "Processing XML files:   5%|▌         | 1438/26735 [00:09<01:40, 251.03it/s]"
     ]
    },
    {
     "name": "stdout",
     "output_type": "stream",
     "text": [
      "Error processing ./data/hpde.io-master/SMWG/Repository/MEDOC.xml: 'utf-8' codec can't decode byte 0xe9 in position 682: invalid continuation byte\n"
     ]
    },
    {
     "name": "stderr",
     "output_type": "stream",
     "text": [
      "Processing XML files: 100%|██████████| 26735/26735 [02:23<00:00, 186.76it/s]\n"
     ]
    }
   ],
   "source": [
    "from utils.spase_to_rdf import xml_to_rdf\n",
    "xml_to_rdf(\"./data/hpde.io-master/\", \"spase_model\", \"./data/\", partition_number=1)"
   ],
   "metadata": {
    "collapsed": false,
    "ExecuteTime": {
     "end_time": "2024-02-15T19:51:20.466003Z",
     "start_time": "2024-02-15T19:45:26.132634Z"
    }
   },
   "id": "be9135c4b91ba080",
   "execution_count": 5
  },
  {
   "cell_type": "code",
   "outputs": [],
   "source": [],
   "metadata": {
    "collapsed": false,
    "ExecuteTime": {
     "end_time": "2024-02-15T19:51:20.467704Z",
     "start_time": "2024-02-15T19:51:20.466242Z"
    }
   },
   "id": "ed2ac35958b097a0",
   "execution_count": 5
  }
 ],
 "metadata": {
  "kernelspec": {
   "display_name": "Python 3",
   "language": "python",
   "name": "python3"
  },
  "language_info": {
   "codemirror_mode": {
    "name": "ipython",
    "version": 2
   },
   "file_extension": ".py",
   "mimetype": "text/x-python",
   "name": "python",
   "nbconvert_exporter": "python",
   "pygments_lexer": "ipython2",
   "version": "2.7.6"
  }
 },
 "nbformat": 4,
 "nbformat_minor": 5
}
