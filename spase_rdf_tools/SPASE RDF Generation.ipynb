{
 "cells": [
  {
   "cell_type": "markdown",
   "id": "12930b3f1bff54e7",
   "metadata": {},
   "source": [
    "# SPASE RDF Generation"
   ]
  },
  {
   "cell_type": "markdown",
   "id": "54d5690bff08c251",
   "metadata": {},
   "source": [
    "## Download input data\n",
    "\n",
    "Download the SPASE XSD Schema:"
   ]
  },
  {
   "cell_type": "code",
   "execution_count": null,
   "id": "5711a00ab9b1e4cb",
   "metadata": {
    "ExecuteTime": {
     "end_time": "2024-02-15T19:39:46.339987Z",
     "start_time": "2024-02-15T19:39:45.917524Z"
    }
   },
   "outputs": [],
   "source": [
    "from pathlib import Path\n",
    "\n",
    "from utils.data_download import download_spase_schema_xsd\n",
    "\n",
    "Path(\"./data/\").mkdir(exist_ok=True)\n",
    "download_spase_schema_xsd(\"2.6.0\", \"./data/\")"
   ]
  },
  {
   "cell_type": "markdown",
   "id": "f8bd63b9dd771ec2",
   "metadata": {},
   "source": [
    "Download the HPDE SPASE Files:"
   ]
  },
  {
   "cell_type": "code",
   "execution_count": null,
   "id": "c47ee86751b4acce",
   "metadata": {
    "ExecuteTime": {
     "end_time": "2024-02-15T19:45:24.538143Z",
     "start_time": "2024-02-15T19:39:46.340515Z"
    }
   },
   "outputs": [],
   "source": [
    "from utils.data_download import download_hpde_files\n",
    "\n",
    "# This may take a while\n",
    "download_hpde_files(\"master\", \"./data/\")"
   ]
  },
  {
   "cell_type": "markdown",
   "id": "c21c8079632649e2",
   "metadata": {},
   "source": [
    "## Generate SPASE OWL File\n",
    "\n",
    "### Generate Intermediate Python Model"
   ]
  },
  {
   "cell_type": "code",
   "execution_count": null,
   "id": "a5e0f3fa89612684",
   "metadata": {
    "ExecuteTime": {
     "end_time": "2024-02-15T19:45:25.813223Z",
     "start_time": "2024-02-15T19:45:24.540368Z"
    }
   },
   "outputs": [],
   "source": [
    "from utils.spase_to_rdf import create_python_model_from_xsd\n",
    "\n",
    "create_python_model_from_xsd(\"./data/spase-2.6.0.xsd\", \"spase_model\")"
   ]
  },
  {
   "cell_type": "markdown",
   "id": "73509ad49dfdaac4",
   "metadata": {},
   "source": [
    "### Generate Ontology from Python module"
   ]
  },
  {
   "cell_type": "code",
   "execution_count": null,
   "id": "147980a407756a79",
   "metadata": {
    "ExecuteTime": {
     "end_time": "2024-02-15T20:03:27.127811Z",
     "start_time": "2024-02-15T20:03:26.773935Z"
    }
   },
   "outputs": [],
   "source": [
    "from utils.spase_to_rdf import create_owl_from_python_module\n",
    "\n",
    "create_owl_from_python_module(\"spase_model\", \"./data/spase.owl\")"
   ]
  },
  {
   "cell_type": "markdown",
   "id": "db2a3b750f1f2b13",
   "metadata": {},
   "source": [
    "### Generate RDF File from XML"
   ]
  },
  {
   "cell_type": "code",
   "execution_count": null,
   "id": "be9135c4b91ba080",
   "metadata": {
    "ExecuteTime": {
     "end_time": "2024-02-15T19:51:20.466003Z",
     "start_time": "2024-02-15T19:45:26.132634Z"
    }
   },
   "outputs": [],
   "source": [
    "from utils.spase_to_rdf import xml_to_rdf\n",
    "xml_to_rdf(\"./data/hpde.io-master/\", \"spase_model\", \"./data/\", partition_number=1)"
   ]
  },
  {
   "cell_type": "code",
   "execution_count": null,
   "id": "ed2ac35958b097a0",
   "metadata": {
    "ExecuteTime": {
     "end_time": "2024-02-15T19:51:20.467704Z",
     "start_time": "2024-02-15T19:51:20.466242Z"
    }
   },
   "outputs": [],
   "source": []
  }
 ],
 "metadata": {
  "kernelspec": {
   "display_name": "Python 3",
   "language": "python",
   "name": "python3"
  },
  "language_info": {
   "codemirror_mode": {
    "name": "ipython",
    "version": 3
   },
   "file_extension": ".py",
   "mimetype": "text/x-python",
   "name": "python",
   "nbconvert_exporter": "python",
   "pygments_lexer": "ipython3",
   "version": "3.9.18"
  }
 },
 "nbformat": 4,
 "nbformat_minor": 5
}
